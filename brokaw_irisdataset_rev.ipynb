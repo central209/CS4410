{
  "nbformat": 4,
  "nbformat_minor": 0,
  "metadata": {
    "colab": {
      "name": "Copy of brokaw_irisdataset.ipynb",
      "provenance": [],
      "collapsed_sections": [],
      "authorship_tag": "ABX9TyNoFTX7p5n2qt3OdCUMl+QP",
      "include_colab_link": true
    },
    "kernelspec": {
      "name": "python3",
      "display_name": "Python 3"
    },
    "language_info": {
      "name": "python"
    }
  },
  "cells": [
    {
      "cell_type": "markdown",
      "metadata": {
        "id": "view-in-github",
        "colab_type": "text"
      },
      "source": [
        "<a href=\"https://colab.research.google.com/github/central209/CS4410/blob/main/brokaw_irisdataset_rev.ipynb\" target=\"_parent\"><img src=\"https://colab.research.google.com/assets/colab-badge.svg\" alt=\"Open In Colab\"/></a>"
      ]
    },
    {
      "cell_type": "code",
      "execution_count": null,
      "metadata": {
        "id": "pwcb_sDPykom"
      },
      "outputs": [],
      "source": [
        "%matplotlib inline"
      ]
    },
    {
      "cell_type": "code",
      "source": [
        "# IMPORTS\n",
        "from sklearn.neighbors import KNeighborsClassifier\n",
        "from sklearn.model_selection import train_test_split, cross_val_score, GridSearchCV\n",
        "from sklearn.datasets import load_iris\n",
        "from sklearn.metrics import accuracy_score\n",
        "import numpy as np\n",
        "import pandas as pd\n",
        "import matplotlib.pyplot as plt\n",
        "# import matplotlib.ticker as ticker\n",
        "# from matplotlib.ticker import NullFormatter\n",
        "# import seaborn as sns"
      ],
      "metadata": {
        "id": "jphFE4m-tZN1"
      },
      "execution_count": null,
      "outputs": []
    },
    {
      "cell_type": "code",
      "source": [
        "iris = load_iris()"
      ],
      "metadata": {
        "id": "yL2KCpAazAdQ"
      },
      "execution_count": null,
      "outputs": []
    },
    {
      "cell_type": "code",
      "source": [
        "iris.data.shape"
      ],
      "metadata": {
        "colab": {
          "base_uri": "https://localhost:8080/"
        },
        "id": "zz3v9UXLaU58",
        "outputId": "20e9eabb-792e-4d1d-d538-4607822f7765"
      },
      "execution_count": null,
      "outputs": [
        {
          "output_type": "execute_result",
          "data": {
            "text/plain": [
              "(150, 4)"
            ]
          },
          "metadata": {},
          "execution_count": 4
        }
      ]
    },
    {
      "cell_type": "code",
      "source": [
        "iris.target.shape"
      ],
      "metadata": {
        "colab": {
          "base_uri": "https://localhost:8080/"
        },
        "id": "xNPTkUwkaeCD",
        "outputId": "211e8b69-b23e-4319-9e4a-92657a8bed81"
      },
      "execution_count": null,
      "outputs": [
        {
          "output_type": "execute_result",
          "data": {
            "text/plain": [
              "(150,)"
            ]
          },
          "metadata": {},
          "execution_count": 5
        }
      ]
    },
    {
      "cell_type": "code",
      "source": [
        "X = iris.data\n",
        "y = iris.target"
      ],
      "metadata": {
        "id": "6KHZb5qHGkmK"
      },
      "execution_count": null,
      "outputs": []
    },
    {
      "cell_type": "code",
      "source": [
        "# SPLIT FOR TRAINING AND TESTING\n",
        "X_train, X_test, y_train, y_test = train_test_split(\n",
        "     iris.data, iris.target, random_state=11)"
      ],
      "metadata": {
        "id": "-TdmI99laGqb"
      },
      "execution_count": null,
      "outputs": []
    },
    {
      "cell_type": "code",
      "source": [
        "X_train.shape"
      ],
      "metadata": {
        "colab": {
          "base_uri": "https://localhost:8080/"
        },
        "id": "oqslnWBUak65",
        "outputId": "dab307ff-6b41-4c11-8167-8a93f23505f5"
      },
      "execution_count": null,
      "outputs": [
        {
          "output_type": "execute_result",
          "data": {
            "text/plain": [
              "(112, 4)"
            ]
          },
          "metadata": {},
          "execution_count": 8
        }
      ]
    },
    {
      "cell_type": "code",
      "source": [
        "X_test.shape"
      ],
      "metadata": {
        "colab": {
          "base_uri": "https://localhost:8080/"
        },
        "id": "ntcbVed2ak_C",
        "outputId": "9ca45216-b6cc-4c41-8eb5-90859782ef09"
      },
      "execution_count": null,
      "outputs": [
        {
          "output_type": "execute_result",
          "data": {
            "text/plain": [
              "(38, 4)"
            ]
          },
          "metadata": {},
          "execution_count": 9
        }
      ]
    },
    {
      "cell_type": "code",
      "execution_count": null,
      "metadata": {
        "id": "s00y5xwaGg1b"
      },
      "outputs": [],
      "source": [
        "knn = KNeighborsClassifier()"
      ]
    },
    {
      "cell_type": "code",
      "source": [
        "for k in range(1, 31, 2):\n",
        "    knn = KNeighborsClassifier(n_neighbors=k)  \n",
        "    scores = cross_val_score(estimator=knn, X=iris.data, y=iris.target, cv=10)\n",
        "    print(f'k={k:<2}; mean accuracy={scores.mean():.2%}; ' + f'standard deviation={scores.std():.2%}')"
      ],
      "metadata": {
        "colab": {
          "base_uri": "https://localhost:8080/"
        },
        "id": "tvh8ZR0HwCmZ",
        "outputId": "0b383d5c-02ef-4b98-e8a1-65d7e036db13"
      },
      "execution_count": null,
      "outputs": [
        {
          "output_type": "stream",
          "name": "stdout",
          "text": [
            "k=1 ; mean accuracy=96.00%; standard deviation=5.33%\n",
            "k=3 ; mean accuracy=96.67%; standard deviation=4.47%\n",
            "k=5 ; mean accuracy=96.67%; standard deviation=4.47%\n",
            "k=7 ; mean accuracy=96.67%; standard deviation=4.47%\n",
            "k=9 ; mean accuracy=97.33%; standard deviation=3.27%\n",
            "k=11; mean accuracy=96.67%; standard deviation=4.47%\n",
            "k=13; mean accuracy=98.00%; standard deviation=3.06%\n",
            "k=15; mean accuracy=97.33%; standard deviation=3.27%\n",
            "k=17; mean accuracy=97.33%; standard deviation=3.27%\n",
            "k=19; mean accuracy=97.33%; standard deviation=3.27%\n",
            "k=21; mean accuracy=96.67%; standard deviation=3.33%\n",
            "k=23; mean accuracy=97.33%; standard deviation=3.27%\n",
            "k=25; mean accuracy=96.67%; standard deviation=3.33%\n",
            "k=27; mean accuracy=96.67%; standard deviation=4.47%\n",
            "k=29; mean accuracy=95.33%; standard deviation=4.27%\n"
          ]
        }
      ]
    },
    {
      "cell_type": "code",
      "source": [
        "# https://stackoverflow.com/questions/62003285/how-can-we-find-the-optimum-k-value-in-k-nearest-neighbor\n",
        "\n",
        "accuracies=[]\n",
        "k_range = range(1, 31)\n",
        "param_grid = dict(n_neighbors=k_range)\n",
        "knn = KNeighborsClassifier()\n",
        "grid = GridSearchCV(knn, param_grid, cv=10, scoring='accuracy')\n",
        "grid.fit(X, y)\n",
        "\n",
        "# print(grid.cv_results_.keys())\n",
        "print (grid.best_score_)\n",
        "print (grid.best_params_)\n",
        "print (grid.best_estimator_)\n",
        "\n",
        "accuracies=grid.cv_results_['mean_test_score']\n",
        "accuracies=list(accuracies)"
      ],
      "metadata": {
        "id": "nHMZE9qHGtWz",
        "colab": {
          "base_uri": "https://localhost:8080/"
        },
        "outputId": "5bd94ae3-79fc-48a7-bdab-f9a19364ecfc"
      },
      "execution_count": null,
      "outputs": [
        {
          "output_type": "stream",
          "name": "stdout",
          "text": [
            "0.9800000000000001\n",
            "{'n_neighbors': 13}\n",
            "KNeighborsClassifier(n_neighbors=13)\n"
          ]
        }
      ]
    },
    {
      "cell_type": "code",
      "source": [
        "#plot 'Value of K for KNN' vs. 'Cross-Validated Accuracy'\n",
        "\n",
        "plt.plot(k_range, accuracies)\n",
        "plt.xlabel('Value of K for KNN')\n",
        "plt.ylabel('Cross-validated accuracy')\n",
        "plt.title('Value of K for KNN vs. Cross-Validated Accuracy')"
      ],
      "metadata": {
        "colab": {
          "base_uri": "https://localhost:8080/",
          "height": 312
        },
        "id": "qp8r5u31TlxA",
        "outputId": "a81f179e-6832-45bb-b08b-728f4c3115ef"
      },
      "execution_count": null,
      "outputs": [
        {
          "output_type": "execute_result",
          "data": {
            "text/plain": [
              "Text(0.5, 1.0, 'Value of K for KNN vs. Cross-Validated Accuracy')"
            ]
          },
          "metadata": {},
          "execution_count": 13
        },
        {
          "output_type": "display_data",
          "data": {
            "text/plain": [
              "<Figure size 432x288 with 1 Axes>"
            ],
            "image/png": "[encoded data removed]"
          },
          "metadata": {
            "needs_background": "light"
          }
        }
      ]
    },
    {
      "cell_type": "code",
      "source": [
        "plt.plot(k_range[10:15], accuracies[10:15])\n",
        "plt.xlabel('Value of K for KNN')\n",
        "plt.ylabel('Cross-validated accuracy')\n",
        "plt.title('Value of K for KNN vs. Cross-Validated Accuracy')"
      ],
      "metadata": {
        "colab": {
          "base_uri": "https://localhost:8080/",
          "height": 312
        },
        "id": "2JyS0XSdSlIF",
        "outputId": "50996c4a-d73c-4c5c-81e8-cff0e33e33c8"
      },
      "execution_count": null,
      "outputs": [
        {
          "output_type": "execute_result",
          "data": {
            "text/plain": [
              "Text(0.5, 1.0, 'Value of K for KNN vs. Cross-Validated Accuracy')"
            ]
          },
          "metadata": {},
          "execution_count": 14
        },
        {
          "output_type": "display_data",
          "data": {
            "text/plain": [
              "<Figure size 432x288 with 1 Axes>"
            ],
            "image/png": "[encoded data removed]"
          },
          "metadata": {
            "needs_background": "light"
          }
        }
      ]
    }
  ]
}